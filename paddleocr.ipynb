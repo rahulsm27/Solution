{
 "cells": [
  {
   "cell_type": "code",
   "execution_count": 1,
   "metadata": {},
   "outputs": [
    {
     "name": "stdout",
     "output_type": "stream",
     "text": [
      "Cloning into 'PaddleOCR'...\n",
      "remote: Enumerating objects: 47838, done.\u001b[K\n",
      "remote: Counting objects: 100% (189/189), done.\u001b[K\n",
      "remote: Compressing objects: 100% (151/151), done.\u001b[K\n",
      "remote: Total 47838 (delta 67), reused 119 (delta 34), pack-reused 47649\u001b[K\n",
      "Receiving objects: 100% (47838/47838), 345.48 MiB | 2.49 MiB/s, done.\n",
      "Resolving deltas: 100% (33571/33571), done.\n",
      "Updating files: 100% (1892/1892), done.\n"
     ]
    }
   ],
   "source": [
    "!git clone https://github.com/PaddlePaddle/PaddleOCR.git"
   ]
  },
  {
   "cell_type": "code",
   "execution_count": null,
   "metadata": {},
   "outputs": [],
   "source": [
    "!python3 -m pip install paddlepaddle -q"
   ]
  },
  {
   "cell_type": "code",
   "execution_count": 1,
   "metadata": {},
   "outputs": [
    {
     "name": "stdout",
     "output_type": "stream",
     "text": [
      "/Users/rahulmahajan/Desktop/Business Quant/PaddleOCR\n"
     ]
    }
   ],
   "source": [
    "%cd PaddleOCR\n"
   ]
  },
  {
   "cell_type": "code",
   "execution_count": 2,
   "metadata": {},
   "outputs": [
    {
     "name": "stdout",
     "output_type": "stream",
     "text": [
      "Requirement already satisfied: shapely in /Users/rahulmahajan/anaconda3/envs/ocr/lib/python3.8/site-packages (from -r requirements.txt (line 1)) (2.0.3)\n",
      "Requirement already satisfied: scikit-image in /Users/rahulmahajan/anaconda3/envs/ocr/lib/python3.8/site-packages (from -r requirements.txt (line 2)) (0.21.0)\n",
      "Requirement already satisfied: imgaug in /Users/rahulmahajan/anaconda3/envs/ocr/lib/python3.8/site-packages (from -r requirements.txt (line 3)) (0.4.0)\n",
      "Requirement already satisfied: pyclipper in /Users/rahulmahajan/anaconda3/envs/ocr/lib/python3.8/site-packages (from -r requirements.txt (line 4)) (1.3.0.post5)\n",
      "Requirement already satisfied: lmdb in /Users/rahulmahajan/anaconda3/envs/ocr/lib/python3.8/site-packages (from -r requirements.txt (line 5)) (1.4.1)\n",
      "Requirement already satisfied: tqdm in /Users/rahulmahajan/anaconda3/envs/ocr/lib/python3.8/site-packages (from -r requirements.txt (line 6)) (4.66.2)\n",
      "Requirement already satisfied: numpy in /Users/rahulmahajan/anaconda3/envs/ocr/lib/python3.8/site-packages (from -r requirements.txt (line 7)) (1.24.4)\n",
      "Requirement already satisfied: visualdl in /Users/rahulmahajan/anaconda3/envs/ocr/lib/python3.8/site-packages (from -r requirements.txt (line 8)) (2.5.3)\n",
      "Requirement already satisfied: rapidfuzz in /Users/rahulmahajan/anaconda3/envs/ocr/lib/python3.8/site-packages (from -r requirements.txt (line 9)) (3.6.2)\n",
      "Requirement already satisfied: opencv-python<=4.6.0.66 in /Users/rahulmahajan/anaconda3/envs/ocr/lib/python3.8/site-packages (from -r requirements.txt (line 10)) (4.6.0.66)\n",
      "Requirement already satisfied: opencv-contrib-python<=4.6.0.66 in /Users/rahulmahajan/anaconda3/envs/ocr/lib/python3.8/site-packages (from -r requirements.txt (line 11)) (4.6.0.66)\n",
      "Requirement already satisfied: cython in /Users/rahulmahajan/anaconda3/envs/ocr/lib/python3.8/site-packages (from -r requirements.txt (line 12)) (3.0.9)\n",
      "Requirement already satisfied: lxml in /Users/rahulmahajan/anaconda3/envs/ocr/lib/python3.8/site-packages (from -r requirements.txt (line 13)) (5.1.0)\n",
      "Requirement already satisfied: premailer in /Users/rahulmahajan/anaconda3/envs/ocr/lib/python3.8/site-packages (from -r requirements.txt (line 14)) (3.10.0)\n",
      "Requirement already satisfied: openpyxl in /Users/rahulmahajan/anaconda3/envs/ocr/lib/python3.8/site-packages (from -r requirements.txt (line 15)) (3.1.2)\n",
      "Requirement already satisfied: attrdict in /Users/rahulmahajan/anaconda3/envs/ocr/lib/python3.8/site-packages (from -r requirements.txt (line 16)) (2.0.1)\n",
      "Requirement already satisfied: Pillow>=10.0.0 in /Users/rahulmahajan/anaconda3/envs/ocr/lib/python3.8/site-packages (from -r requirements.txt (line 17)) (10.2.0)\n",
      "Requirement already satisfied: pyyaml in /Users/rahulmahajan/anaconda3/envs/ocr/lib/python3.8/site-packages (from -r requirements.txt (line 18)) (6.0.1)\n",
      "Requirement already satisfied: scipy>=1.8 in /Users/rahulmahajan/anaconda3/envs/ocr/lib/python3.8/site-packages (from scikit-image->-r requirements.txt (line 2)) (1.10.1)\n",
      "Requirement already satisfied: networkx>=2.8 in /Users/rahulmahajan/anaconda3/envs/ocr/lib/python3.8/site-packages (from scikit-image->-r requirements.txt (line 2)) (3.1)\n",
      "Requirement already satisfied: imageio>=2.27 in /Users/rahulmahajan/anaconda3/envs/ocr/lib/python3.8/site-packages (from scikit-image->-r requirements.txt (line 2)) (2.34.0)\n",
      "Requirement already satisfied: tifffile>=2022.8.12 in /Users/rahulmahajan/anaconda3/envs/ocr/lib/python3.8/site-packages (from scikit-image->-r requirements.txt (line 2)) (2023.7.10)\n",
      "Requirement already satisfied: PyWavelets>=1.1.1 in /Users/rahulmahajan/anaconda3/envs/ocr/lib/python3.8/site-packages (from scikit-image->-r requirements.txt (line 2)) (1.4.1)\n",
      "Requirement already satisfied: packaging>=21 in /Users/rahulmahajan/anaconda3/envs/ocr/lib/python3.8/site-packages (from scikit-image->-r requirements.txt (line 2)) (24.0)\n",
      "Requirement already satisfied: lazy_loader>=0.2 in /Users/rahulmahajan/anaconda3/envs/ocr/lib/python3.8/site-packages (from scikit-image->-r requirements.txt (line 2)) (0.3)\n",
      "Requirement already satisfied: six in /Users/rahulmahajan/anaconda3/envs/ocr/lib/python3.8/site-packages (from imgaug->-r requirements.txt (line 3)) (1.16.0)\n",
      "Requirement already satisfied: matplotlib in /Users/rahulmahajan/anaconda3/envs/ocr/lib/python3.8/site-packages (from imgaug->-r requirements.txt (line 3)) (3.7.5)\n",
      "Requirement already satisfied: bce-python-sdk in /Users/rahulmahajan/anaconda3/envs/ocr/lib/python3.8/site-packages (from visualdl->-r requirements.txt (line 8)) (0.9.5)\n",
      "Requirement already satisfied: flask>=1.1.1 in /Users/rahulmahajan/anaconda3/envs/ocr/lib/python3.8/site-packages (from visualdl->-r requirements.txt (line 8)) (3.0.2)\n",
      "Requirement already satisfied: Flask-Babel>=3.0.0 in /Users/rahulmahajan/anaconda3/envs/ocr/lib/python3.8/site-packages (from visualdl->-r requirements.txt (line 8)) (4.0.0)\n",
      "Requirement already satisfied: protobuf>=3.20.0 in /Users/rahulmahajan/anaconda3/envs/ocr/lib/python3.8/site-packages (from visualdl->-r requirements.txt (line 8)) (5.26.0)\n",
      "Requirement already satisfied: requests in /Users/rahulmahajan/anaconda3/envs/ocr/lib/python3.8/site-packages (from visualdl->-r requirements.txt (line 8)) (2.31.0)\n",
      "Requirement already satisfied: pandas in /Users/rahulmahajan/anaconda3/envs/ocr/lib/python3.8/site-packages (from visualdl->-r requirements.txt (line 8)) (2.0.3)\n",
      "Requirement already satisfied: rarfile in /Users/rahulmahajan/anaconda3/envs/ocr/lib/python3.8/site-packages (from visualdl->-r requirements.txt (line 8)) (4.1)\n",
      "Requirement already satisfied: psutil in /Users/rahulmahajan/anaconda3/envs/ocr/lib/python3.8/site-packages (from visualdl->-r requirements.txt (line 8)) (5.9.8)\n",
      "Requirement already satisfied: cssselect in /Users/rahulmahajan/anaconda3/envs/ocr/lib/python3.8/site-packages (from premailer->-r requirements.txt (line 14)) (1.2.0)\n",
      "Requirement already satisfied: cssutils in /Users/rahulmahajan/anaconda3/envs/ocr/lib/python3.8/site-packages (from premailer->-r requirements.txt (line 14)) (2.9.0)\n",
      "Requirement already satisfied: cachetools in /Users/rahulmahajan/anaconda3/envs/ocr/lib/python3.8/site-packages (from premailer->-r requirements.txt (line 14)) (5.3.3)\n",
      "Requirement already satisfied: et-xmlfile in /Users/rahulmahajan/anaconda3/envs/ocr/lib/python3.8/site-packages (from openpyxl->-r requirements.txt (line 15)) (1.1.0)\n",
      "Requirement already satisfied: Werkzeug>=3.0.0 in /Users/rahulmahajan/anaconda3/envs/ocr/lib/python3.8/site-packages (from flask>=1.1.1->visualdl->-r requirements.txt (line 8)) (3.0.1)\n",
      "Requirement already satisfied: Jinja2>=3.1.2 in /Users/rahulmahajan/anaconda3/envs/ocr/lib/python3.8/site-packages (from flask>=1.1.1->visualdl->-r requirements.txt (line 8)) (3.1.3)\n",
      "Requirement already satisfied: itsdangerous>=2.1.2 in /Users/rahulmahajan/anaconda3/envs/ocr/lib/python3.8/site-packages (from flask>=1.1.1->visualdl->-r requirements.txt (line 8)) (2.1.2)\n",
      "Requirement already satisfied: click>=8.1.3 in /Users/rahulmahajan/anaconda3/envs/ocr/lib/python3.8/site-packages (from flask>=1.1.1->visualdl->-r requirements.txt (line 8)) (8.1.7)\n",
      "Requirement already satisfied: blinker>=1.6.2 in /Users/rahulmahajan/anaconda3/envs/ocr/lib/python3.8/site-packages (from flask>=1.1.1->visualdl->-r requirements.txt (line 8)) (1.7.0)\n",
      "Requirement already satisfied: importlib-metadata>=3.6.0 in /Users/rahulmahajan/anaconda3/envs/ocr/lib/python3.8/site-packages (from flask>=1.1.1->visualdl->-r requirements.txt (line 8)) (7.1.0)\n",
      "Requirement already satisfied: Babel>=2.12 in /Users/rahulmahajan/anaconda3/envs/ocr/lib/python3.8/site-packages (from Flask-Babel>=3.0.0->visualdl->-r requirements.txt (line 8)) (2.14.0)\n",
      "Requirement already satisfied: pytz>=2022.7 in /Users/rahulmahajan/anaconda3/envs/ocr/lib/python3.8/site-packages (from Flask-Babel>=3.0.0->visualdl->-r requirements.txt (line 8)) (2024.1)\n",
      "Requirement already satisfied: pycryptodome>=3.8.0 in /Users/rahulmahajan/anaconda3/envs/ocr/lib/python3.8/site-packages (from bce-python-sdk->visualdl->-r requirements.txt (line 8)) (3.20.0)\n",
      "Requirement already satisfied: future>=0.6.0 in /Users/rahulmahajan/anaconda3/envs/ocr/lib/python3.8/site-packages (from bce-python-sdk->visualdl->-r requirements.txt (line 8)) (1.0.0)\n",
      "Requirement already satisfied: contourpy>=1.0.1 in /Users/rahulmahajan/anaconda3/envs/ocr/lib/python3.8/site-packages (from matplotlib->imgaug->-r requirements.txt (line 3)) (1.1.1)\n",
      "Requirement already satisfied: cycler>=0.10 in /Users/rahulmahajan/anaconda3/envs/ocr/lib/python3.8/site-packages (from matplotlib->imgaug->-r requirements.txt (line 3)) (0.12.1)\n",
      "Requirement already satisfied: fonttools>=4.22.0 in /Users/rahulmahajan/anaconda3/envs/ocr/lib/python3.8/site-packages (from matplotlib->imgaug->-r requirements.txt (line 3)) (4.50.0)\n",
      "Requirement already satisfied: kiwisolver>=1.0.1 in /Users/rahulmahajan/anaconda3/envs/ocr/lib/python3.8/site-packages (from matplotlib->imgaug->-r requirements.txt (line 3)) (1.4.5)\n",
      "Requirement already satisfied: pyparsing>=2.3.1 in /Users/rahulmahajan/anaconda3/envs/ocr/lib/python3.8/site-packages (from matplotlib->imgaug->-r requirements.txt (line 3)) (3.1.2)\n",
      "Requirement already satisfied: python-dateutil>=2.7 in /Users/rahulmahajan/anaconda3/envs/ocr/lib/python3.8/site-packages (from matplotlib->imgaug->-r requirements.txt (line 3)) (2.9.0)\n",
      "Requirement already satisfied: importlib-resources>=3.2.0 in /Users/rahulmahajan/anaconda3/envs/ocr/lib/python3.8/site-packages (from matplotlib->imgaug->-r requirements.txt (line 3)) (6.4.0)\n",
      "Requirement already satisfied: tzdata>=2022.1 in /Users/rahulmahajan/anaconda3/envs/ocr/lib/python3.8/site-packages (from pandas->visualdl->-r requirements.txt (line 8)) (2024.1)\n",
      "Requirement already satisfied: charset-normalizer<4,>=2 in /Users/rahulmahajan/anaconda3/envs/ocr/lib/python3.8/site-packages (from requests->visualdl->-r requirements.txt (line 8)) (3.3.2)\n",
      "Requirement already satisfied: idna<4,>=2.5 in /Users/rahulmahajan/anaconda3/envs/ocr/lib/python3.8/site-packages (from requests->visualdl->-r requirements.txt (line 8)) (3.6)\n",
      "Requirement already satisfied: urllib3<3,>=1.21.1 in /Users/rahulmahajan/anaconda3/envs/ocr/lib/python3.8/site-packages (from requests->visualdl->-r requirements.txt (line 8)) (1.26.18)\n",
      "Requirement already satisfied: certifi>=2017.4.17 in /Users/rahulmahajan/anaconda3/envs/ocr/lib/python3.8/site-packages (from requests->visualdl->-r requirements.txt (line 8)) (2024.2.2)\n",
      "Requirement already satisfied: zipp>=0.5 in /Users/rahulmahajan/anaconda3/envs/ocr/lib/python3.8/site-packages (from importlib-metadata>=3.6.0->flask>=1.1.1->visualdl->-r requirements.txt (line 8)) (3.17.0)\n",
      "Requirement already satisfied: MarkupSafe>=2.0 in /Users/rahulmahajan/anaconda3/envs/ocr/lib/python3.8/site-packages (from Jinja2>=3.1.2->flask>=1.1.1->visualdl->-r requirements.txt (line 8)) (2.1.5)\n"
     ]
    }
   ],
   "source": [
    "!pip3 install -r requirements.txt"
   ]
  },
  {
   "cell_type": "code",
   "execution_count": 5,
   "metadata": {},
   "outputs": [],
   "source": [
    "file_image_path =[\"image00013.jpg\",\"image00016.jpg\",\"image00045.jpg\",\"image00046.jpg\",\"image00047.jpg\"]"
   ]
  },
  {
   "cell_type": "code",
   "execution_count": 4,
   "metadata": {},
   "outputs": [
    {
     "name": "stdout",
     "output_type": "stream",
     "text": [
      "/Users/rahulmahajan/Desktop/Business Quant/PaddleOCR/ppstructure\n"
     ]
    }
   ],
   "source": [
    "%cd ppstructure"
   ]
  },
  {
   "cell_type": "code",
   "execution_count": 5,
   "metadata": {},
   "outputs": [
    {
     "name": "stdout",
     "output_type": "stream",
     "text": [
      "/Users/rahulmahajan/Desktop/Business Quant/PaddleOCR/ppstructure/inference\n"
     ]
    }
   ],
   "source": [
    "# download model\n",
    "!mkdir inference\n",
    "%cd inference"
   ]
  },
  {
   "cell_type": "code",
   "execution_count": 6,
   "metadata": {},
   "outputs": [
    {
     "name": "stdout",
     "output_type": "stream",
     "text": [
      "--2024-03-23 19:55:55--  https://paddleocr.bj.bcebos.com/PP-OCRv3/english/en_PP-OCRv3_det_infer.tar\n"
     ]
    },
    {
     "name": "stdout",
     "output_type": "stream",
     "text": [
      "Resolving paddleocr.bj.bcebos.com (paddleocr.bj.bcebos.com)... 2409:8c04:1001:1203:0:ff:b0bb:4f27, 103.235.46.61\n",
      "Connecting to paddleocr.bj.bcebos.com (paddleocr.bj.bcebos.com)|2409:8c04:1001:1203:0:ff:b0bb:4f27|:443... connected.\n",
      "HTTP request sent, awaiting response... 200 OK\n",
      "Length: 4003840 (3.8M) [application/x-tar]\n",
      "Saving to: ‘en_PP-OCRv3_det_infer.tar’\n",
      "\n",
      "en_PP-OCRv3_det_inf 100%[===================>]   3.82M   439KB/s    in 12s     \n",
      "\n",
      "2024-03-23 19:56:10 (317 KB/s) - ‘en_PP-OCRv3_det_infer.tar’ saved [4003840/4003840]\n",
      "\n"
     ]
    }
   ],
   "source": [
    "# Download the PP-OCRv3 text detection model and unzip it\n",
    "!wget https://paddleocr.bj.bcebos.com/PP-OCRv3/english/en_PP-OCRv3_det_infer.tar && tar xf en_PP-OCRv3_det_infer.tar\n"
   ]
  },
  {
   "cell_type": "code",
   "execution_count": 7,
   "metadata": {},
   "outputs": [
    {
     "name": "stdout",
     "output_type": "stream",
     "text": [
      "--2024-03-23 19:56:57--  https://paddleocr.bj.bcebos.com/PP-OCRv3/english/en_PP-OCRv3_rec_infer.tar\n",
      "Resolving paddleocr.bj.bcebos.com (paddleocr.bj.bcebos.com)... 103.235.46.61, 2409:8c04:1001:1203:0:ff:b0bb:4f27\n",
      "Connecting to paddleocr.bj.bcebos.com (paddleocr.bj.bcebos.com)|103.235.46.61|:443... connected.\n",
      "HTTP request sent, awaiting response... 200 OK\n",
      "Length: 9963520 (9.5M) [application/x-tar]\n",
      "Saving to: ‘en_PP-OCRv3_rec_infer.tar’\n",
      "\n",
      "en_PP-OCRv3_rec_inf 100%[===================>]   9.50M  1.56MB/s    in 14s     \n",
      "\n",
      "2024-03-23 19:57:12 (681 KB/s) - ‘en_PP-OCRv3_rec_infer.tar’ saved [9963520/9963520]\n",
      "\n"
     ]
    }
   ],
   "source": [
    "# Download the PP-OCRv3 text recognition model unzip it\n",
    "!wget https://paddleocr.bj.bcebos.com/PP-OCRv3/english/en_PP-OCRv3_rec_infer.tar && tar xf en_PP-OCRv3_rec_infer.tar\n"
   ]
  },
  {
   "cell_type": "code",
   "execution_count": 8,
   "metadata": {},
   "outputs": [
    {
     "name": "stdout",
     "output_type": "stream",
     "text": [
      "--2024-03-23 19:57:12--  https://paddleocr.bj.bcebos.com/ppstructure/models/slanet/en_ppstructure_mobile_v2.0_SLANet_infer.tar\n",
      "Resolving paddleocr.bj.bcebos.com (paddleocr.bj.bcebos.com)... 2409:8c04:1001:1203:0:ff:b0bb:4f27, 103.235.46.61\n",
      "Connecting to paddleocr.bj.bcebos.com (paddleocr.bj.bcebos.com)|2409:8c04:1001:1203:0:ff:b0bb:4f27|:443... connected.\n",
      "HTTP request sent, awaiting response... 200 OK\n",
      "Length: 10193408 (9.7M) [application/x-tar]\n",
      "Saving to: ‘en_ppstructure_mobile_v2.0_SLANet_infer.tar’\n",
      "\n",
      "en_ppstructure_mobi 100%[===================>]   9.72M  1.88MB/s    in 16s     \n",
      "\n",
      "2024-03-23 19:57:30 (622 KB/s) - ‘en_ppstructure_mobile_v2.0_SLANet_infer.tar’ saved [10193408/10193408]\n",
      "\n"
     ]
    }
   ],
   "source": [
    "# Download the PP-StructureV2 form recognition model and unzip it\n",
    "!wget https://paddleocr.bj.bcebos.com/ppstructure/models/slanet/en_ppstructure_mobile_v2.0_SLANet_infer.tar && tar xf en_ppstructure_mobile_v2.0_SLANet_infer.tar\n"
   ]
  },
  {
   "cell_type": "code",
   "execution_count": 9,
   "metadata": {},
   "outputs": [
    {
     "name": "stdout",
     "output_type": "stream",
     "text": [
      "/Users/rahulmahajan/Desktop/Business Quant/PaddleOCR/ppstructure\n"
     ]
    }
   ],
   "source": [
    "%cd .."
   ]
  },
  {
   "cell_type": "code",
   "execution_count": 2,
   "metadata": {},
   "outputs": [
    {
     "name": "stdout",
     "output_type": "stream",
     "text": [
      "/Users/rahulmahajan/Desktop/Business_Quant/PaddleOCR/ppstructure\n"
     ]
    }
   ],
   "source": [
    "#%cd PaddleOCR/ppstructure/"
   ]
  },
  {
   "cell_type": "code",
   "execution_count": 4,
   "metadata": {},
   "outputs": [
    {
     "name": "stdout",
     "output_type": "stream",
     "text": [
      "E0323 20:03:55.385974 1419010304 analysis_config.cc:125] Please use PaddlePaddle with GPU version.\n",
      "E0323 20:03:57.300588 1419010304 analysis_config.cc:125] Please use PaddlePaddle with GPU version.\n",
      "E0323 20:03:58.420939 1419010304 analysis_config.cc:125] Please use PaddlePaddle with GPU version.\n",
      "E0323 20:04:00.688380 1419010304 analysis_config.cc:125] Please use PaddlePaddle with GPU version.\n",
      "[2024/03/23 20:04:01] ppocr INFO: [0/1] /Users/rahulmahajan/Desktop/Business_Quant/image_dataset/image00013.jpg\n",
      "[2024/03/23 20:04:06] ppocr DEBUG: dt_boxes num : 113, elapse : 1.126950979232788\n",
      "[2024/03/23 20:04:28] ppocr DEBUG: rec_res num  : 113, elapse : 22.824979782104492\n",
      "[2024/03/23 20:04:29] ppocr INFO: <html><body><table><thead><tr><td colspan=\"9\">Financial Summary</td></tr></thead><tbody><tr><td>USER, FINANCIAL&LIQUIDITY SUMMARY</td><td></td><td></td><td></td><td></td><td></td><td>Q4 2022|Q12023|Q22023|Q3 2023|Q4 2023|YY</td><td>YYFXN</td><td></td></tr><tr><td>USERS (M)</td><td></td><td></td><td></td><td>574</td><td></td><td></td><td></td><td></td></tr><tr><td>Total Monthly Active Users(MAUs</td><td>489</td><td>515</td><td>551</td><td></td><td>602</td><td>23%</td><td></td><td></td></tr><tr><td>Premium Subscribers Ad-Supported MAUs</td><td>205 295</td><td>210 317</td><td>220 343</td><td>228 36</td><td>238 378</td><td>15% 28%</td><td></td><td></td></tr><tr><td></td><td></td><td></td><td></td><td></td><td></td><td></td><td></td><td></td></tr><tr><td>FINANCIALS (EM)</td><td></td><td></td><td>2,773</td><td>2.910</td><td></td><td>17%</td><td></td><td></td></tr><tr><td>Premium Ad-Supported</td><td>2.717</td><td>2713</td><td></td><td>447</td><td>3.170</td><td>501 12%</td><td></td><td>21% 17%</td></tr><tr><td>Total Revenue</td><td>440 3,166</td><td>329 3,042</td><td>404 3,177</td><td>3,357</td><td>3,67</td><td>16%</td><td></td><td>20%</td></tr><tr><td>Gross Profit</td><td></td><td>788</td><td>786</td><td>885</td><td></td><td>980</td><td></td><td>26%</td></tr><tr><td>Gross Margin</td><td>801 25.3%</td><td>25.2%</td><td>24.1%</td><td>26.4%</td><td>26.7%</td><td>22% -</td><td></td><td>-</td></tr><tr><td></td><td></td><td>922</td><td>1,013</td><td>853</td><td>1,055</td><td>2%</td><td></td><td></td></tr><tr><td>Total Operating Expenses</td><td>1,032</td><td></td><td></td><td></td><td></td><td></td><td></td><td>6%</td></tr><tr><td>Operating (LossMIncome</td><td>(231)</td><td>(156</td><td>(247)</td><td>1.0%</td><td>32</td><td>(75)</td><td></td><td></td></tr><tr><td>Operating Margin</td><td>(7.3%)</td><td>(6.1</td><td>(7.8%)</td><td></td><td>(2.0%</td><td></td><td></td><td>--</td></tr><tr><td>FREE CASH FLOW &LIQUIDITY (EM,unless otherwise denoted)</td><td></td><td></td><td></td><td></td><td></td><td></td><td></td><td></td></tr><tr><td>Net CahFlows From Operating Activities</td><td>(70)</td><td>59</td><td></td><td>13 211 9</td><td></td><td>397</td><td></td><td></td></tr><tr><td>Free Cash Flowe</td><td>(73) 3.4</td><td>57</td><td></td><td>216</td><td>396</td><td>-</td><td></td><td>=</td></tr><tr><td>Cash & Cash Equivalents, Restrcted Cash & Short Term Investments (B)</td><td></td><td>3.5</td><td></td><td>3.5 3.8[</td><td>4.3</td><td></td><td></td><td></td></tr><tr><td>@Spotity Free Cah Fiow and Contant C</td><td>yac[usted measure (FXN) are nonIFR3</td><td></td><td></td><td>of IFR3 to NonIFR3 Resuits* for addional Iinformation.</td><td></td><td></td><td></td><td></td></tr></tbody></table></body></html>\n",
      "[2024/03/23 20:04:29] ppocr INFO: excel saved to /Users/rahulmahajan/Desktop/Business_Quant/extract_3/image00013.xlsx\n",
      "[2024/03/23 20:04:29] ppocr INFO: Predict time : 27.984s\n"
     ]
    }
   ],
   "source": [
    "\n",
    "# !python3 table/predict_table.py \\\n",
    "#     --det_model_dir=inference/en_PP-OCRv3_det_infer \\\n",
    "#     --rec_model_dir=inference/en_PP-OCRv3_rec_infer  \\\n",
    "#     --table_model_dir=inference/en_ppstructure_mobile_v2.0_SLANet_infer \\\n",
    "#     --rec_char_dict_path=../ppocr/utils/en_dict.txt \\\n",
    "#     --table_char_dict_path=../ppocr/utils/dict/table_structure_dict.txt \\\n",
    "#     --image_dir=/Users/rahulmahajan/Desktop/Business_Quant/image_dataset/image00013.jpg \\\n",
    "#     --output=/Users/rahulmahajan/Desktop/Business_Quant/extract_3"
   ]
  },
  {
   "cell_type": "code",
   "execution_count": 7,
   "metadata": {},
   "outputs": [
    {
     "name": "stderr",
     "output_type": "stream",
     "text": [
      "E0323 20:09:04.265877 1419010304 analysis_config.cc:125] Please use PaddlePaddle with GPU version.\n",
      "E0323 20:09:05.656661 1419010304 analysis_config.cc:125] Please use PaddlePaddle with GPU version.\n",
      "E0323 20:09:06.612365 1419010304 analysis_config.cc:125] Please use PaddlePaddle with GPU version.\n",
      "E0323 20:09:08.660257 1419010304 analysis_config.cc:125] Please use PaddlePaddle with GPU version.\n"
     ]
    },
    {
     "name": "stdout",
     "output_type": "stream",
     "text": [
      "[2024/03/23 20:09:10] ppocr INFO: [0/1] /Users/rahulmahajan/Desktop/Business_Quant/image_dataset/image00013.jpg\n",
      "[2024/03/23 20:09:15] ppocr DEBUG: dt_boxes num : 113, elapse : 1.4726037979125977\n",
      "[2024/03/23 20:09:45] ppocr DEBUG: rec_res num  : 113, elapse : 29.599653959274292\n",
      "[2024/03/23 20:09:45] ppocr INFO: <html><body><table><thead><tr><td colspan=\"9\">Financial Summary</td></tr></thead><tbody><tr><td>USER, FINANCIAL&LIQUIDITY SUMMARY</td><td></td><td></td><td></td><td></td><td></td><td>Q4 2022|Q12023|Q22023|Q3 2023|Q4 2023|YY</td><td>YYFXN</td><td></td></tr><tr><td>USERS (M)</td><td></td><td></td><td></td><td>574</td><td></td><td></td><td></td><td></td></tr><tr><td>Total Monthly Active Users(MAUs</td><td>489</td><td>515</td><td>551</td><td></td><td>602</td><td>23%</td><td></td><td></td></tr><tr><td>Premium Subscribers Ad-Supported MAUs</td><td>205 295</td><td>210 317</td><td>220 343</td><td>228 36</td><td>238 378</td><td>15% 28%</td><td></td><td></td></tr><tr><td></td><td></td><td></td><td></td><td></td><td></td><td></td><td></td><td></td></tr><tr><td>FINANCIALS (EM)</td><td></td><td></td><td>2,773</td><td>2.910</td><td></td><td>17%</td><td></td><td></td></tr><tr><td>Premium Ad-Supported</td><td>2.717</td><td>2713</td><td></td><td>447</td><td>3.170</td><td>501 12%</td><td></td><td>21% 17%</td></tr><tr><td>Total Revenue</td><td>440 3,166</td><td>329 3,042</td><td>404 3,177</td><td>3,357</td><td>3,67</td><td>16%</td><td></td><td>20%</td></tr><tr><td>Gross Profit</td><td></td><td>788</td><td>786</td><td>885</td><td></td><td>980</td><td></td><td>26%</td></tr><tr><td>Gross Margin</td><td>801 25.3%</td><td>25.2%</td><td>24.1%</td><td>26.4%</td><td>26.7%</td><td>22% -</td><td></td><td>-</td></tr><tr><td></td><td></td><td>922</td><td>1,013</td><td>853</td><td>1,055</td><td>2%</td><td></td><td></td></tr><tr><td>Total Operating Expenses</td><td>1,032</td><td></td><td></td><td></td><td></td><td></td><td></td><td>6%</td></tr><tr><td>Operating (LossMIncome</td><td>(231)</td><td>(156</td><td>(247)</td><td>1.0%</td><td>32</td><td>(75)</td><td></td><td></td></tr><tr><td>Operating Margin</td><td>(7.3%)</td><td>(6.1</td><td>(7.8%)</td><td></td><td>(2.0%</td><td></td><td></td><td>--</td></tr><tr><td>FREE CASH FLOW &LIQUIDITY (EM,unless otherwise denoted)</td><td></td><td></td><td></td><td></td><td></td><td></td><td></td><td></td></tr><tr><td>Net CahFlows From Operating Activities</td><td>(70)</td><td>59</td><td></td><td>13 211 9</td><td></td><td>397</td><td></td><td></td></tr><tr><td>Free Cash Flowe</td><td>(73) 3.4</td><td>57</td><td></td><td>216</td><td>396</td><td>-</td><td></td><td>=</td></tr><tr><td>Cash & Cash Equivalents, Restrcted Cash & Short Term Investments (B)</td><td></td><td>3.5</td><td></td><td>3.5 3.8[</td><td>4.3</td><td></td><td></td><td></td></tr><tr><td>@Spotity Free Cah Fiow and Contant C</td><td>yac[usted measure (FXN) are nonIFR3</td><td></td><td></td><td>of IFR3 to NonIFR3 Resuits* for addional Iinformation.</td><td></td><td></td><td></td><td></td></tr></tbody></table></body></html>\n",
      "[2024/03/23 20:09:46] ppocr INFO: excel saved to /Users/rahulmahajan/Desktop/Business_Quant/extract_3/image00013.xlsx\n",
      "[2024/03/23 20:09:46] ppocr INFO: Predict time : 36.009s\n"
     ]
    },
    {
     "name": "stderr",
     "output_type": "stream",
     "text": [
      "E0323 20:10:03.300112 1419010304 analysis_config.cc:125] Please use PaddlePaddle with GPU version.\n",
      "E0323 20:10:04.910609 1419010304 analysis_config.cc:125] Please use PaddlePaddle with GPU version.\n",
      "E0323 20:10:05.824697 1419010304 analysis_config.cc:125] Please use PaddlePaddle with GPU version.\n",
      "E0323 20:10:07.676501 1419010304 analysis_config.cc:125] Please use PaddlePaddle with GPU version.\n"
     ]
    },
    {
     "name": "stdout",
     "output_type": "stream",
     "text": [
      "[2024/03/23 20:10:08] ppocr INFO: [0/1] /Users/rahulmahajan/Desktop/Business_Quant/image_dataset/image00016.jpg\n",
      "[2024/03/23 20:10:14] ppocr DEBUG: dt_boxes num : 39, elapse : 2.0588538646698\n",
      "[2024/03/23 20:10:28] ppocr DEBUG: rec_res num  : 39, elapse : 13.47193193435669\n",
      "[2024/03/23 20:10:28] ppocr INFO: <html><body><table><thead><tr><td>Key Highlights: Actuals vs. Guidance</td><td></td><td></td><td></td></tr></thead><tbody><tr><td></td><td>Results</td><td>Q2 2023 Actuals</td><td>Guidance</td></tr><tr><td>Monthly Active Users (M) Users</td><td>Above</td><td>551</td><td>530</td></tr><tr><td>Premium Subscribers (M)</td><td>Above</td><td>220</td><td>217</td></tr><tr><td></td><td>Results</td><td>Q2 2023 Actuals</td><td>Guidance</td></tr><tr><td>Total Revenue (EB) Financials Gross Margin</td><td>In-line</td><td>3.2</td><td>3.2</td></tr><tr><td>Adjusted Gross Margin*</td><td></td><td>24.1%</td><td>25.5%</td></tr><tr><td>Operating(Loss)/Income(EM)</td><td>In-line</td><td>25.5%</td><td>25.5%</td></tr><tr><td></td><td></td><td>(247)</td><td>(129)</td></tr><tr><td>Adjusted Operating (Loss)/ Income* Spotify Adjusted Gross Margin and Adjusted Operating Loss are non-IFRS measures.See Use of Non-IFRS Measuresand Reconciation of IFRS to NonIFRS Results\" for additional infomation.</td><td>Above</td><td>(112)</td><td>(129) 5</td></tr></tbody></table></body></html>\n",
      "[2024/03/23 20:10:29] ppocr INFO: excel saved to /Users/rahulmahajan/Desktop/Business_Quant/extract_3/image00016.xlsx\n",
      "[2024/03/23 20:10:29] ppocr INFO: Predict time : 20.232s\n"
     ]
    },
    {
     "name": "stderr",
     "output_type": "stream",
     "text": [
      "E0323 20:10:36.229287 1419010304 analysis_config.cc:125] Please use PaddlePaddle with GPU version.\n",
      "E0323 20:10:37.727350 1419010304 analysis_config.cc:125] Please use PaddlePaddle with GPU version.\n",
      "E0323 20:10:39.225529 1419010304 analysis_config.cc:125] Please use PaddlePaddle with GPU version.\n",
      "E0323 20:10:41.302290 1419010304 analysis_config.cc:125] Please use PaddlePaddle with GPU version.\n"
     ]
    },
    {
     "name": "stdout",
     "output_type": "stream",
     "text": [
      "[2024/03/23 20:10:43] ppocr INFO: [0/1] /Users/rahulmahajan/Desktop/Business_Quant/image_dataset/image00045.jpg\n",
      "[2024/03/23 20:10:49] ppocr DEBUG: dt_boxes num : 51, elapse : 2.435497999191284\n",
      "[2024/03/23 20:11:05] ppocr DEBUG: rec_res num  : 51, elapse : 15.660851240158081\n",
      "[2024/03/23 20:11:05] ppocr INFO: <html><body><table><thead><tr><td>Calculation of basic and diluted loss per share</td><td></td><td></td><td></td></tr><tr><td>(in E milions,except share and per share data)</td><td>Three months ended.</td><td>March 31, 2023</td><td> June 30, 2022</td></tr></thead><tbody><tr><td>(Unauadited) Basic loss per share Net loss attributable to owners of the parent</td><td> June 30, 2023</td><td></td><td>(125</td></tr><tr><td>Shares used in computation:</td><td>(302)</td><td>(225)</td><td></td></tr><tr><td>Weighted-average ordinary shares outstanding</td><td>194,420,128</td><td>193,562,462</td><td>192,948,032</td></tr><tr><td>Basic loss per share attributable to</td><td></td><td>(1.16)</td><td>(0.65)</td></tr><tr><td>owners of the parent</td><td>(1.55</td><td></td><td></td></tr><tr><td>Diluted loss per share</td><td></td><td></td><td></td></tr><tr><td>Net loss attributable to owners of the parent</td><td>302)</td><td>(225)</td><td>125</td></tr><tr><td>Fair value gains on dilutive Exchangeable Notes</td><td></td><td></td><td>(41)</td></tr><tr><td>Net loss used in the computation of diluted loss per share</td><td>(302)</td><td>(225)</td><td>(166)</td></tr><tr><td>Shares used in computation:</td><td></td><td></td><td></td></tr><tr><td>Weighted-average ordinary shares outstanding</td><td>194,420,128</td><td>193,562,462</td><td>192,948,032</td></tr><tr><td>Exchangeable Notes</td><td></td><td></td><td>2.911,500</td></tr><tr><td>Diluted weighted-average ordinary shares</td><td>194,420,128.00</td><td>193,562,462.00</td><td>195,859,532.00</td></tr><tr><td>Diluted loss per share attributable to</td><td></td><td>(1.16)</td><td></td></tr><tr><td>owners of the parent</td><td>(1.55</td><td></td><td>(0.85)</td></tr><tr><td></td><td></td><td></td><td></td></tr><tr><td></td><td></td><td></td><td></td></tr><tr><td></td><td></td><td></td><td></td></tr><tr><td></td><td></td><td></td><td></td></tr><tr><td></td><td></td><td></td><td></td></tr><tr><td></td><td></td><td></td><td></td></tr><tr><td></td><td></td><td></td><td></td></tr><tr><td></td><td></td><td></td><td></td></tr><tr><td></td><td></td><td></td><td></td></tr><tr><td></td><td></td><td></td><td></td></tr><tr><td></td><td></td><td></td><td></td></tr><tr><td></td><td></td><td></td><td></td></tr><tr><td></td><td></td><td></td><td></td></tr><tr><td></td><td></td><td></td><td></td></tr><tr><td></td><td></td><td></td><td></td></tr><tr><td></td><td></td><td></td><td></td></tr><tr><td></td><td></td><td></td><td></td></tr><tr><td></td><td></td><td></td><td></td></tr><tr><td></td><td></td><td></td><td></td></tr><tr><td></td><td></td><td></td><td></td></tr><tr><td></td><td></td><td></td><td></td></tr><tr><td></td><td></td><td></td><td></td></tr><tr><td></td><td></td><td></td><td></td></tr><tr><td></td><td></td><td></td><td></td></tr><tr><td></td><td></td><td></td><td></td></tr><tr><td></td><td></td><td></td><td></td></tr><tr><td></td><td></td><td></td><td></td></tr><tr><td></td><td></td><td></td><td></td></tr><tr><td></td><td></td><td></td><td></td></tr><tr><td></td><td></td><td></td><td>29</td></tr></tbody></table></body></html>\n",
      "[2024/03/23 20:11:05] ppocr INFO: excel saved to /Users/rahulmahajan/Desktop/Business_Quant/extract_3/image00045.xlsx\n",
      "[2024/03/23 20:11:05] ppocr INFO: Predict time : 22.531s\n"
     ]
    },
    {
     "name": "stderr",
     "output_type": "stream",
     "text": [
      "E0323 20:11:14.151636 1419010304 analysis_config.cc:125] Please use PaddlePaddle with GPU version.\n",
      "E0323 20:11:15.812439 1419010304 analysis_config.cc:125] Please use PaddlePaddle with GPU version.\n",
      "E0323 20:11:16.829222 1419010304 analysis_config.cc:125] Please use PaddlePaddle with GPU version.\n",
      "E0323 20:11:19.195753 1419010304 analysis_config.cc:125] Please use PaddlePaddle with GPU version.\n"
     ]
    },
    {
     "name": "stdout",
     "output_type": "stream",
     "text": [
      "[2024/03/23 20:11:21] ppocr INFO: [0/1] /Users/rahulmahajan/Desktop/Business_Quant/image_dataset/image00046.jpg\n",
      "[2024/03/23 20:11:27] ppocr DEBUG: dt_boxes num : 214, elapse : 2.72599196434021\n",
      "[2024/03/23 20:12:07] ppocr DEBUG: rec_res num  : 214, elapse : 39.9811429977417\n",
      "[2024/03/23 20:12:08] ppocr INFO: <html><body><table><thead><tr><td>Reconciliation of IFRS to non-IFRS results</td><td></td><td></td><td></td><td></td><td></td><td></td><td></td><td></td><td></td><td></td><td></td><td></td><td></td><td></td></tr></thead><tbody><tr><td rowspan=\"3\">Free Cash Flow (Unaudited) (in Emilions)</td><td>March 31,</td><td></td><td></td><td></td><td></td><td></td><td>Three months ended</td><td></td><td></td><td></td><td></td><td></td><td>December</td><td>March 31,</td></tr><tr><td>December 31,2019</td><td>2020**</td><td>June 30, 220</td><td>September 30, 2020*</td><td>December 31,2020</td><td>March 31, 2021</td><td>June 30, 201*</td><td>September 30, 2021</td><td>December March 31, 31,2021 2022</td><td>June 30, 2022</td><td>September 30, 2022</td><td>31, 2022</td><td></td><td>June 30, 223 023</td></tr><tr><td>Net cash flows from/(used in)</td><td>(9)</td><td></td><td>122</td><td>107 (35</td><td>65</td><td>54 (20)</td><td>123 (25</td><td>119 16</td><td>37 (10</td><td>39 (5)</td><td>40 (5)</td><td>70) 5</td><td>59 13</td></tr><tr><td>operating activities Capital expenditures Change in restricted cash</td><td>203 32 (2)</td><td>(12</td><td>39 (14 2</td><td>17 (2</td><td>2</td><td>(24)</td><td></td><td>1</td><td></td><td>(5</td><td>3</td><td></td><td>2</td><td>(2) (2 (2) 9</td></tr><tr><td>Free Cash Flow</td><td>169</td><td>(21)</td><td>27</td><td>103</td><td>74</td><td>41</td><td>34</td><td>99</td><td>103</td><td>22</td><td>37</td><td>35</td><td>(73)</td><td>57</td></tr><tr><td>Free Cash Flow (Unaudited) (in Emilions)</td><td></td><td></td><td></td><td></td><td></td><td></td><td></td><td></td><td></td><td></td><td></td><td></td><td></td><td></td></tr><tr><td></td><td></td><td>September</td><td>December</td><td>March 31,</td><td> June 30,</td><td>September</td><td>December</td><td>Last twelve months ended</td><td>March 31, 2022</td><td> June 30,</td><td>September</td><td>December</td><td>March 31,</td><td>June 30,</td></tr><tr><td>Net cash flows from operating activties</td><td></td><td>30, 2020</td><td>31, 2020 259</td><td>2021</td><td>2021 333</td><td>30, 2021</td><td>31, 2021 349</td><td>361</td><td>333</td><td>2022 318</td><td>30, 2022 235</td><td>31, 2022</td><td>2023</td><td>2023 68 42</td></tr><tr><td>Capital expenditures</td><td></td><td>355 75</td><td>(78)</td><td></td><td>(90)</td><td>348 (96)</td><td>104</td><td>85</td><td>(71)</td><td>56)</td><td>36)</td><td>46 (25)</td><td></td><td>17) (14)</td></tr><tr><td>Change in restricted cash Free Cash Flow</td><td></td><td>(2) 278</td><td>183</td><td>2</td><td>245</td><td>252</td><td>3 248</td><td>1 277</td><td>(4) 258</td><td>(1 261</td><td>(2) 197</td><td>21</td><td></td><td>5 56 28</td></tr><tr><td></td><td></td><td></td><td></td><td></td><td></td><td></td><td></td><td></td><td></td><td></td><td></td><td></td><td></td><td></td></tr><tr><td>Free Cash Flow (Unaudited) (in E millions)</td><td></td><td></td><td></td><td></td><td></td><td></td><td></td><td></td><td></td><td></td><td></td><td></td><td></td><td></td></tr><tr><td></td><td></td><td></td><td></td><td></td><td></td><td></td><td></td><td>Twelve months ended</td><td></td><td></td><td></td><td></td><td></td><td></td></tr><tr><td>Net cash flows from operating activities</td><td>December 31, 2016 101</td><td>December 31, 2017</td><td></td><td></td><td></td><td>December 31, 2018</td><td></td><td>December 31, 2019</td><td></td><td>December 31, 2020</td><td></td><td>December 31, 2021</td><td></td><td>December 31, 2022 46</td></tr><tr><td>Capital expenditures Change in restricted cash</td><td></td><td>(27)</td><td></td><td>179 (36) (34)</td><td></td><td>344 (125)</td><td></td><td>573 (135)</td><td></td><td>259 78) 2</td><td></td><td>361 (85)</td><td></td><td>(25)</td></tr><tr><td>Frec Cash Flow</td><td></td><td>1</td><td></td><td></td><td></td><td></td><td>(10)</td><td></td><td></td><td></td><td></td><td></td><td>1</td><td></td></tr><tr><td></td><td></td><td></td><td>73</td><td></td><td>109</td><td></td><td>209</td><td></td><td>2 440</td><td></td><td></td><td></td><td>277</td><td>21</td></tr><tr><td></td><td></td><td></td><td></td><td></td><td></td><td></td><td></td><td></td><td></td><td></td><td>183</td><td></td><td></td><td>31</td></tr></tbody></table></body></html>\n",
      "[2024/03/23 20:12:09] ppocr INFO: excel saved to /Users/rahulmahajan/Desktop/Business_Quant/extract_3/image00046.xlsx\n",
      "[2024/03/23 20:12:09] ppocr INFO: Predict time : 47.621s\n"
     ]
    },
    {
     "name": "stderr",
     "output_type": "stream",
     "text": [
      "E0323 20:12:26.427366 1419010304 analysis_config.cc:125] Please use PaddlePaddle with GPU version.\n",
      "E0323 20:12:28.239825 1419010304 analysis_config.cc:125] Please use PaddlePaddle with GPU version.\n",
      "E0323 20:12:29.463850 1419010304 analysis_config.cc:125] Please use PaddlePaddle with GPU version.\n",
      "E0323 20:12:31.932529 1419010304 analysis_config.cc:125] Please use PaddlePaddle with GPU version.\n"
     ]
    },
    {
     "name": "stdout",
     "output_type": "stream",
     "text": [
      "[2024/03/23 20:12:34] ppocr INFO: [0/1] /Users/rahulmahajan/Desktop/Business_Quant/image_dataset/image00047.jpg\n",
      "[2024/03/23 20:12:39] ppocr DEBUG: dt_boxes num : 181, elapse : 1.9515767097473145\n",
      "[2024/03/23 20:13:12] ppocr DEBUG: rec_res num  : 181, elapse : 32.511149883270264\n",
      "[2024/03/23 20:13:13] ppocr INFO: <html><body><table><thead><tr><td>Adjusted gross profit (Unaudited) in Emilionsexcep percentages</td><td>June 30, 2023</td><td>Three months ended March 31, 2023</td><td>June 30, 2022 June 30, 2023</td><td></td><td>Three months ended March 31, 2023</td><td>June 30, 2022</td><td>June 30, 2023</td><td>Three months ended March 31, 2023</td><td></td><td>June 30, 2022</td></tr></thead><tbody><tr><td></td><td></td><td>Consolidated</td><td></td><td></td><td>Premium</td><td></td><td></td><td>Ad-Supported</td><td></td><td></td></tr><tr><td>IFRS revenue IFRS cost of revenue</td><td>3.177 2.411</td><td>3,042 2.276</td><td>2.864 2.160</td><td>2,773 1,984</td><td>2.713 1,937</td><td>2,504 1.804</td><td></td><td>404</td><td>329</td><td>360</td></tr><tr><td>IFRS gross profit</td><td></td><td>766</td><td>704</td><td></td><td></td><td></td><td></td><td>427 23</td><td>339 -10</td><td>356 4</td></tr><tr><td>FRS gross margin</td><td>766 24.1%</td><td>25.2%</td><td>24.6 %</td><td>789 28.5 %</td><td>776 28.6 %</td><td>700 28.0 %</td><td></td><td>(5.7)%</td><td>(3.0)%</td><td>1.1%</td></tr><tr><td></td><td></td><td></td><td></td><td></td><td></td><td></td><td></td><td></td><td></td><td></td></tr><tr><td>Adjustments: Less: changes in prior period estimates for</td><td></td><td></td><td></td><td></td><td></td><td></td><td></td><td></td><td></td><td></td></tr><tr><td>rights holder liabilities</td><td>8</td><td>- -</td><td>(11 31 0</td><td>(3)</td><td>- -</td><td>(11</td><td></td><td>(5</td><td>- </td><td></td></tr><tr><td>Add: Car Thing charge Add: Employee severance and related</td><td></td><td></td><td></td><td></td><td></td><td>31 0)</td><td></td><td></td><td></td><td></td></tr><tr><td>charges Add: Impairmment charge on real estate</td><td>6 ()</td><td>3 (6</td><td>-</td><td>- </td><td>1 (</td><td>- -</td><td></td><td>6 (</td><td>2 </td><td></td></tr><tr><td>assets</td><td>7(2)</td><td>-</td><td>-</td><td></td><td>-</td><td></td><td></td><td>6 (2)</td><td></td><td></td></tr><tr><td>AddWr-ffof content assets nd conract termination and other costs</td><td>39 (3)</td><td>-</td><td></td><td></td><td>- 1</td><td></td><td></td><td>3 ()</td><td></td><td></td></tr><tr><td>Total adjustments</td><td>44</td><td>3</td><td>20</td><td>(2)</td><td></td><td>20</td><td></td><td>46</td><td>2</td><td>-</td></tr><tr><td>Adjusted gross profit(non-IFRS)</td><td>810</td><td>769</td><td>724</td><td>787</td><td>777</td><td>720</td><td></td><td>23</td><td>(8)</td><td>4</td></tr><tr><td>Adjusted gross margin (non-IFRS)</td><td>25.5 %</td><td>25.3 %</td><td>25.3 %</td><td>28.4 %</td><td>28.6 %</td><td>28.8 %</td><td></td><td>5.7%</td><td>(2.41%</td><td>1.1%</td></tr><tr><td>Adjusted operating loss</td><td></td><td></td><td></td><td></td><td></td><td></td><td></td><td></td><td></td><td></td></tr><tr><td>(Unaudited) in Emilions,except percentages)</td><td></td><td></td><td></td><td></td><td></td><td></td><td></td><td></td><td></td><td></td></tr><tr><td></td><td></td><td></td><td></td><td></td><td></td><td></td><td></td><td>Three months ended March 31, 2023</td><td></td><td>June 30, 2022</td></tr><tr><td>FRS operating loss</td><td></td><td></td><td></td><td></td><td></td><td></td><td>June 30, 2023 (247)</td><td>156)</td><td></td><td>(194)</td></tr><tr><td>Adjustments:</td><td></td><td></td><td></td><td></td><td></td><td></td><td></td><td></td><td></td><td></td></tr><tr><td>Less: changes in prior period estimates fo rights holder liabilties Add: Car Thing charge</td><td></td><td></td><td></td><td></td><td></td><td></td><td>(8)</td><td></td><td></td><td>11</td></tr><tr><td>Add: Employee severance and related charges</td><td></td><td></td><td></td><td></td><td></td><td></td><td>12 ()</td><td></td><td></td><td>31 ()</td></tr><tr><td>Add: Impairmment charge on real estate assets</td><td></td><td></td><td></td><td></td><td></td><td></td><td>90 (2</td><td></td><td>44 6</td><td>-</td></tr><tr><td>Add: Write-off of assets and contract termination and other costs</td><td></td><td></td><td></td><td></td><td></td><td></td><td>41 )</td><td></td><td>-</td><td></td></tr><tr><td>Total adjustments</td><td></td><td></td><td></td><td></td><td></td><td></td><td>135</td><td></td><td>44</td><td>20</td></tr><tr><td></td><td></td><td></td><td></td><td></td><td></td><td></td><td></td><td></td><td></td><td></td></tr><tr><td>Adjusted operating loss (non-IFRS)</td><td></td><td></td><td></td><td></td><td></td><td></td><td>112)</td><td></td><td>(112)</td><td>(174)</td></tr><tr><td>IFRS operating margin</td><td></td><td></td><td></td><td></td><td></td><td></td><td>(7.8)%</td><td></td><td>(5.1)%</td><td>(6.8)%</td></tr><tr><td>Adjusted operating margin (non-IFRS)</td><td></td><td></td><td></td><td></td><td></td><td></td><td>(3.5%</td><td></td><td>(3.7)%</td><td>(6.1)%</td></tr><tr><td>(1) Refiacts the charg recorded from discontinuing the production of CarThing</td><td></td><td></td><td></td><td></td><td></td><td></td><td></td><td></td><td></td><td></td></tr><tr><td>(2) Reflects non cash asset impaimant charges related to real estate optimization plan</td><td></td><td></td><td></td><td></td><td></td><td></td><td></td><td></td><td></td><td></td></tr><tr><td></td><td></td><td></td><td></td><td></td><td></td><td></td><td></td><td></td><td></td><td></td></tr><tr><td>tscnenwies ndn erinionndlaed cs incctinhiing our odcs cnen poftio 4 eflcts severan charges incurred primarily in connction with streamlining our podcast operations 5 Reflects severance charges incurred in connection with our workforce reduction plan</td><td></td><td></td><td></td><td></td><td></td><td></td><td></td><td></td><td></td><td>32</td></tr></tbody></table></body></html>\n",
      "[2024/03/23 20:13:13] ppocr INFO: excel saved to /Users/rahulmahajan/Desktop/Business_Quant/extract_3/image00047.xlsx\n",
      "[2024/03/23 20:13:13] ppocr INFO: Predict time : 39.339s\n"
     ]
    }
   ],
   "source": [
    "import os\n",
    "for i in file_image_path:\n",
    "    os.system(f\"python3 table/predict_table.py \\\n",
    "        --det_model_dir=inference/en_PP-OCRv3_det_infer \\\n",
    "        --rec_model_dir=inference/en_PP-OCRv3_rec_infer  \\\n",
    "        --table_model_dir=inference/en_ppstructure_mobile_v2.0_SLANet_infer \\\n",
    "        --rec_char_dict_path=../ppocr/utils/en_dict.txt \\\n",
    "        --table_char_dict_path=../ppocr/utils/dict/table_structure_dict.txt \\\n",
    "        --image_dir=/Users/rahulmahajan/Desktop/Business_Quant/image_dataset/{i} \\\n",
    "        --output=/Users/rahulmahajan/Desktop/Business_Quant/extract_3\")"
   ]
  }
 ],
 "metadata": {
  "kernelspec": {
   "display_name": "ocr",
   "language": "python",
   "name": "python3"
  },
  "language_info": {
   "codemirror_mode": {
    "name": "ipython",
    "version": 3
   },
   "file_extension": ".py",
   "mimetype": "text/x-python",
   "name": "python",
   "nbconvert_exporter": "python",
   "pygments_lexer": "ipython3",
   "version": "3.8.19"
  }
 },
 "nbformat": 4,
 "nbformat_minor": 2
}
