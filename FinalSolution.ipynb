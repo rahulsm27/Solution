{
 "cells": [
  {
   "cell_type": "code",
   "execution_count": null,
   "metadata": {},
   "outputs": [],
   "source": [
    "# Method 1"
   ]
  },
  {
   "cell_type": "code",
   "execution_count": 6,
   "metadata": {},
   "outputs": [],
   "source": [
    "from img2table.ocr import TextractOCR\n",
    "from img2table.document import Image\n",
    "import os\n",
    "ocr = TextractOCR()"
   ]
  },
  {
   "cell_type": "code",
   "execution_count": 7,
   "metadata": {},
   "outputs": [],
   "source": [
    "list_of_files = os.listdir(\"Image_dataset/\")"
   ]
  },
  {
   "cell_type": "code",
   "execution_count": 8,
   "metadata": {},
   "outputs": [],
   "source": [
    "\n",
    "for file in list_of_files:\n",
    "    src =\"./Image_Dataset/\" + file\n",
    "    # Instantiation of document, either an image or a PDF\n",
    "    doc = Image(src)\n",
    "\n",
    "    dest = './extract/'+ file[:-4]+'.xlsx' # storing in extract folder\n",
    "\n",
    "    # Extraction of tables and creation of a xlsx file containing tables\n",
    "    doc.to_xlsx(dest=dest,\n",
    "                ocr=ocr,\n",
    "                implicit_rows=True,\n",
    "                borderless_tables=True,\n",
    "                min_confidence=50)"
   ]
  },
  {
   "cell_type": "code",
   "execution_count": null,
   "metadata": {},
   "outputs": [],
   "source": []
  },
  {
   "cell_type": "code",
   "execution_count": null,
   "metadata": {},
   "outputs": [],
   "source": [
    "# Method 2"
   ]
  },
  {
   "cell_type": "code",
   "execution_count": 9,
   "metadata": {},
   "outputs": [],
   "source": [
    "import tabula\n",
    "\n",
    "pages=[7,5,29,31,32]\n",
    "# Read the PDF file\n",
    "pdf_file = \"spotifyQ4.pdf\"\n",
    "\n",
    "for page in pages:\n",
    "# convert PDF into CSV\n",
    "    tabula.convert_into(pdf_file,'./extract_2/' +str(page)+\".csv\", output_format=\"csv\",pages=page )\n",
    "\n",
    "# convert all PDFs in a directory\n",
    "#tabula.convert_into_by_batch(\"input_directory\", output_format='csv', pages='all')"
   ]
  },
  {
   "cell_type": "code",
   "execution_count": null,
   "metadata": {},
   "outputs": [],
   "source": []
  }
 ],
 "metadata": {
  "kernelspec": {
   "display_name": "Python 3",
   "language": "python",
   "name": "python3"
  },
  "language_info": {
   "codemirror_mode": {
    "name": "ipython",
    "version": 3
   },
   "file_extension": ".py",
   "mimetype": "text/x-python",
   "name": "python",
   "nbconvert_exporter": "python",
   "pygments_lexer": "ipython3",
   "version": "3.8.19"
  }
 },
 "nbformat": 4,
 "nbformat_minor": 2
}
